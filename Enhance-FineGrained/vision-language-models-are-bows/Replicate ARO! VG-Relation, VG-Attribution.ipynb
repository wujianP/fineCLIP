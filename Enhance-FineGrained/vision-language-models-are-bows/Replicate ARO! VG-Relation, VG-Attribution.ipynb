{
 "cells": [
  {
   "cell_type": "code",
   "execution_count": 1,
   "id": "35150174",
   "metadata": {},
   "outputs": [
    {
     "name": "stderr",
     "output_type": "stream",
     "text": [
      "/home/mila/l/le.zhang/.conda/envs/aro/lib/python3.9/site-packages/tqdm/auto.py:21: TqdmWarning: IProgress not found. Please update jupyter and ipywidgets. See https://ipywidgets.readthedocs.io/en/stable/user_install.html\n",
      "  from .autonotebook import tqdm as notebook_tqdm\n"
     ]
    }
   ],
   "source": [
    "import sys\n",
    "sys.path.append(\"..\")\n",
    "\n",
    "import pandas as pd\n",
    "\n",
    "from torch.utils.data import DataLoader\n",
    "from model_zoo import get_model\n",
    "from dataset_zoo import VG_Relation, VG_Attribution"
   ]
  },
  {
   "cell_type": "code",
   "execution_count": 2,
   "id": "02d2d2e3",
   "metadata": {},
   "outputs": [],
   "source": [
    "# Please put your data root directory below. We'll download VG-Relation and VG-Attribution images here. \n",
    "# Will be a 1GB zip file (a subset of GQA).\n",
    "root_dir=\"~/.cache\" \n"
   ]
  },
  {
   "cell_type": "code",
   "execution_count": 3,
   "id": "44bf8eb2",
   "metadata": {},
   "outputs": [],
   "source": [
    "model, preprocess = get_model(model_name=\"NegCLIP\", device=\"cuda\", root_dir=root_dir)"
   ]
  },
  {
   "cell_type": "code",
   "execution_count": 4,
   "id": "4b942fb4",
   "metadata": {},
   "outputs": [
    {
     "name": "stderr",
     "output_type": "stream",
     "text": [
      "Computing retrieval scores: 100%|██████████| 1497/1497 [03:37<00:00,  6.88it/s]\n"
     ]
    }
   ],
   "source": [
    "# Get the VG-R dataset\n",
    "vgr_dataset = VG_Relation(image_preprocess=preprocess, download=True, root_dir=root_dir)\n",
    "vgr_loader = DataLoader(vgr_dataset, batch_size=512, shuffle=False)\n",
    "\n",
    "# Compute the scores for each test case\n",
    "vgr_scores = model.get_retrieval_scores_batched(vgr_loader)\n"
   ]
  },
  {
   "cell_type": "code",
   "execution_count": 9,
   "id": "d0da0737",
   "metadata": {},
   "outputs": [
    {
     "name": "stdout",
     "output_type": "stream",
     "text": [
      "VG-Relation Macro Accuracy: 0.8021892603363159\n"
     ]
    }
   ],
   "source": [
    "# Evaluate the macro accuracy\n",
    "vgr_records = vgr_dataset.evaluate_scores(vgr_scores)\n",
    "symmetric = ['adjusting', 'attached to', 'between', 'bigger than', 'biting', 'boarding', 'brushing', 'chewing', 'cleaning', 'climbing', 'close to', 'coming from', 'coming out of', 'contain', 'crossing', 'dragging', 'draped over', 'drinking', 'drinking from', 'driving', 'driving down', 'driving on', 'eating from', 'eating in', 'enclosing', 'exiting', 'facing', 'filled with', 'floating in', 'floating on', 'flying', 'flying above', 'flying in', 'flying over', 'flying through', 'full of', 'going down', 'going into', 'going through', 'grazing in', 'growing in', 'growing on', 'guiding', 'hanging from', 'hanging in', 'hanging off', 'hanging over', 'higher than', 'holding onto', 'hugging', 'in between', 'jumping off', 'jumping on', 'jumping over', 'kept in', 'larger than', 'leading', 'leaning over', 'leaving', 'licking', 'longer than', 'looking in', 'looking into', 'looking out', 'looking over', 'looking through', 'lying next to', 'lying on top of', 'making', 'mixed with', 'mounted on', 'moving', 'on the back of', 'on the edge of', 'on the front of', 'on the other side of', 'opening', 'painted on', 'parked at', 'parked beside', 'parked by', 'parked in', 'parked in front of', 'parked near', 'parked next to', 'perched on', 'petting', 'piled on', 'playing', 'playing in', 'playing on', 'playing with', 'pouring', 'reaching for', 'reading', 'reflected on', 'riding on', 'running in', 'running on', 'running through', 'seen through', 'sitting behind', 'sitting beside', 'sitting by', 'sitting in front of', 'sitting near', 'sitting next to', 'sitting under', 'skiing down', 'skiing on', 'sleeping in', 'sleeping on', 'smiling at', 'sniffing', 'splashing', 'sprinkled on', 'stacked on', 'standing against', 'standing around', 'standing behind', 'standing beside', 'standing in front of', 'standing near', 'standing next to', 'staring at', 'stuck in', 'surrounding', 'swimming in', 'swinging', 'talking to', 'topped with', 'touching', 'traveling down', 'traveling on', 'tying', 'typing on', 'underneath', 'wading in', 'waiting for', 'walking across', 'walking by', 'walking down', 'walking next to', 'walking through', 'working in', 'working on', 'worn on', 'wrapped around', 'wrapped in', 'by', 'of', 'near', 'next to', 'with', 'beside', 'on the side of', 'around']\n",
    "df = pd.DataFrame(vgr_records)\n",
    "df = df[~df.Relation.isin(symmetric)]\n",
    "print(f\"VG-Relation Macro Accuracy: {df.Accuracy.mean()}\")"
   ]
  },
  {
   "cell_type": "code",
   "execution_count": null,
   "id": "3fe7ced3",
   "metadata": {},
   "outputs": [],
   "source": [
    "# Get the VG-A dataset\n",
    "vga_dataset = VG_Attribution(image_preprocess=preprocess, download=True, root_dir=root_dir)\n",
    "vga_loader = DataLoader(vga_dataset, batch_size=16, shuffle=False)\n",
    "# Compute the scores for each test case\n",
    "vga_scores = model.get_retrieval_scores_batched(vga_loader)\n"
   ]
  },
  {
   "cell_type": "code",
   "execution_count": null,
   "id": "760c2ef6",
   "metadata": {},
   "outputs": [],
   "source": [
    "# Evaluate the macro accuracy\n",
    "vga_records = vga_dataset.evaluate_scores(vga_scores)\n",
    "df = pd.DataFrame(vga_records)\n",
    "print(f\"VG-Attribution Macro Accuracy: {df.Accuracy.mean()}\")"
   ]
  },
  {
   "cell_type": "code",
   "execution_count": 1,
   "id": "9c974373",
   "metadata": {},
   "outputs": [],
   "source": [
    "import json"
   ]
  },
  {
   "cell_type": "code",
   "execution_count": 7,
   "id": "28ca44b7",
   "metadata": {},
   "outputs": [],
   "source": [
    "with open(\"/home/mila/l/le.zhang/scratch/vision-language-models-are-bows/outputs/test.json\", \"w\") as f:\n",
    "    json.dump(results,f,sort_keys=True,indent=2)\n"
   ]
  },
  {
   "cell_type": "code",
   "execution_count": 3,
   "id": "a0a8c304",
   "metadata": {},
   "outputs": [
    {
     "data": {
      "text/plain": [
       "{'rank-mean1-5e-06-weight0.2_epoch_5.pt': 0.5907051597057147,\n",
       " 'rank-extral-data5e-06_epoch_5.pt': 0.4592043560708339,\n",
       " 'rank-discriminative-5e-06-weight0.2_epoch_5.pt': 0.7453600024305107,\n",
       " 'rank-discriminative1-all-5e-06-weight0.2_epoch_5.pt': 0.7418058998940037,\n",
       " 'clip_coco-1e-06-weight0.2_epoch_5.pt': 0.6145907043645186,\n",
       " 'clip_coco-1e-05-weight0.2_epoch_5.pt': 0.5871800843549569,\n",
       " 'openai-clip:ViT-B/32': 0.5927726511181829,\n",
       " 'NegCLIP': 0.8021892603363159,\n",
       " 'rank_coco-dis_text-5e-06-weight0.2_epoch_5.pt': 0.8111268250026694,\n",
       " 'rank_coco-dis_text-5e-06-weight0.2-1_epoch_5.pt': 0.8050826830488335,\n",
       " 'rank_coco-dis_text-5e-06-weight0.2-1_epoch_1.pt': 0.7685381059251694,\n",
       " 'rank_coco-dis_text-5e-06-weight0.2-1_epoch_2.pt': 0.8023487085416092,\n",
       " 'rank_coco-dis_text-5e-06-weight0.2-1_epoch_3.pt': 0.8000065181684395,\n",
       " 'rank_coco-dis_text-5e-06-weight0.2-1_epoch_4.pt': 0.7994801392639707,\n",
       " 'rank_coco-dis_text-5e-06-weight0.2_epoch_1.pt': 0.7752714706473238,\n",
       " 'rank_coco-dis_text-5e-06-weight0.2_epoch_2.pt': 0.805690245609652,\n",
       " 'rank_coco-dis_text-5e-06-weight0.2_epoch_3.pt': 0.8029522440155544,\n",
       " 'rank_coco-dis_text-5e-06-weight0.2_epoch_4.pt': 0.804100350327757,\n",
       " 'rank_coco-dis_text-hn--5e-06-weight0.2-0_epoch_1.pt': 0.7990880737935852,\n",
       " 'rank_coco-dis_text-hn--5e-06-weight0.2-0_epoch_2.pt': 0.8117754181839207,\n",
       " 'rank_coco-dis_text-hn--5e-06-weight0.2-0_epoch_3.pt': 0.8042290821653593,\n",
       " 'rank_coco-dis_text-hn--5e-06-weight0.2-0_epoch_4.pt': 0.8178129957308595,\n",
       " 'rank_coco-dis_text-hn--5e-06-weight0.2-0_epoch_5.pt': 0.8156991249413199,\n",
       " 'rank-coco-mean-5e-06-weight0.2-1_epoch_1.pt': 0.7820182289205911,\n",
       " 'rank-coco-mean-5e-06-weight0.2-1_epoch_2.pt': 0.7908022020330919,\n",
       " 'rank-coco-mean-5e-06-weight0.2-1_epoch_3.pt': 0.788850625193565,\n",
       " 'rank-coco-mean-5e-06-weight0.2-1_epoch_4.pt': 0.7959195040753149,\n",
       " 'rank-coco-mean-5e-06-weight0.2-1_epoch_5.pt': 0.7919707410218839,\n",
       " 'rank-coco-mean-hn-5e-06-weight0.2-ub2_epoch_1.pt': 0.7912087323461406,\n",
       " 'rank-coco-mean-hn-5e-06-weight0.2-ub5_epoch_1.pt': 0.7964441318054639,\n",
       " 'rank-coco-mean-hn-5e-06-weight0.2-ub10_epoch_1.pt': 0.8050654326460508,\n",
       " 'rank-coco-mean-hn-5e-06-weight0.2-ub2_epoch_2.pt': 0.8003866017119486,\n",
       " 'rank-coco-mean-hn-5e-06-weight0.2-ub5_epoch_2.pt': 0.813480965879355,\n",
       " 'rank-coco-mean-hn-5e-06-weight0.2-ub10_epoch_2.pt': 0.8107440114753955,\n",
       " 'rank-coco-mean-hn-5e-06-weight0.2-ub2_epoch_3.pt': 0.797884644423743}"
      ]
     },
     "execution_count": 3,
     "metadata": {},
     "output_type": "execute_result"
    }
   ],
   "source": [
    "results"
   ]
  },
  {
   "cell_type": "code",
   "execution_count": 6,
   "id": "4b05e414",
   "metadata": {},
   "outputs": [
    {
     "name": "stdout",
     "output_type": "stream",
     "text": [
      "{\"NegCLIP\": 0.8021892603363159, \"clip_coco-1e-05-weight0.2_epoch_5.pt\": 0.5871800843549569, \"clip_coco-1e-06-weight0.2_epoch_5.pt\": 0.6145907043645186, \"openai-clip:ViT-B/32\": 0.5927726511181829, \"rank-coco-mean-5e-06-weight0.2-1_epoch_1.pt\": 0.7820182289205911, \"rank-coco-mean-5e-06-weight0.2-1_epoch_2.pt\": 0.7908022020330919, \"rank-coco-mean-5e-06-weight0.2-1_epoch_3.pt\": 0.788850625193565, \"rank-coco-mean-5e-06-weight0.2-1_epoch_4.pt\": 0.7959195040753149, \"rank-coco-mean-5e-06-weight0.2-1_epoch_5.pt\": 0.7919707410218839, \"rank-coco-mean-hn-5e-06-weight0.2-ub10_epoch_1.pt\": 0.8050654326460508, \"rank-coco-mean-hn-5e-06-weight0.2-ub10_epoch_2.pt\": 0.8107440114753955, \"rank-coco-mean-hn-5e-06-weight0.2-ub2_epoch_1.pt\": 0.7912087323461406, \"rank-coco-mean-hn-5e-06-weight0.2-ub2_epoch_2.pt\": 0.8003866017119486, \"rank-coco-mean-hn-5e-06-weight0.2-ub2_epoch_3.pt\": 0.797884644423743, \"rank-coco-mean-hn-5e-06-weight0.2-ub5_epoch_1.pt\": 0.7964441318054639, \"rank-coco-mean-hn-5e-06-weight0.2-ub5_epoch_2.pt\": 0.813480965879355, \"rank-discriminative-5e-06-weight0.2_epoch_5.pt\": 0.7453600024305107, \"rank-discriminative1-all-5e-06-weight0.2_epoch_5.pt\": 0.7418058998940037, \"rank-extral-data5e-06_epoch_5.pt\": 0.4592043560708339, \"rank-mean1-5e-06-weight0.2_epoch_5.pt\": 0.5907051597057147, \"rank_coco-dis_text-5e-06-weight0.2-1_epoch_1.pt\": 0.7685381059251694, \"rank_coco-dis_text-5e-06-weight0.2-1_epoch_2.pt\": 0.8023487085416092, \"rank_coco-dis_text-5e-06-weight0.2-1_epoch_3.pt\": 0.8000065181684395, \"rank_coco-dis_text-5e-06-weight0.2-1_epoch_4.pt\": 0.7994801392639707, \"rank_coco-dis_text-5e-06-weight0.2-1_epoch_5.pt\": 0.8050826830488335, \"rank_coco-dis_text-5e-06-weight0.2_epoch_1.pt\": 0.7752714706473238, \"rank_coco-dis_text-5e-06-weight0.2_epoch_2.pt\": 0.805690245609652, \"rank_coco-dis_text-5e-06-weight0.2_epoch_3.pt\": 0.8029522440155544, \"rank_coco-dis_text-5e-06-weight0.2_epoch_4.pt\": 0.804100350327757, \"rank_coco-dis_text-5e-06-weight0.2_epoch_5.pt\": 0.8111268250026694, \"rank_coco-dis_text-hn--5e-06-weight0.2-0_epoch_1.pt\": 0.7990880737935852, \"rank_coco-dis_text-hn--5e-06-weight0.2-0_epoch_2.pt\": 0.8117754181839207, \"rank_coco-dis_text-hn--5e-06-weight0.2-0_epoch_3.pt\": 0.8042290821653593, \"rank_coco-dis_text-hn--5e-06-weight0.2-0_epoch_4.pt\": 0.8178129957308595, \"rank_coco-dis_text-hn--5e-06-weight0.2-0_epoch_5.pt\": 0.8156991249413199}\n"
     ]
    }
   ],
   "source": [
    "print(json.dumps(results,sort_keys=True))"
   ]
  },
  {
   "cell_type": "code",
   "execution_count": null,
   "id": "0b15683a",
   "metadata": {},
   "outputs": [],
   "source": []
  }
 ],
 "metadata": {
  "kernelspec": {
   "display_name": "Python 3 (ipykernel)",
   "language": "python",
   "name": "python3"
  },
  "language_info": {
   "codemirror_mode": {
    "name": "ipython",
    "version": 3
   },
   "file_extension": ".py",
   "mimetype": "text/x-python",
   "name": "python",
   "nbconvert_exporter": "python",
   "pygments_lexer": "ipython3",
   "version": "3.9.12"
  }
 },
 "nbformat": 4,
 "nbformat_minor": 5
}
